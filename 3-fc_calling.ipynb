{
 "cells": [
  {
   "cell_type": "code",
   "execution_count": 196,
   "metadata": {},
   "outputs": [],
   "source": [
    "import json\n",
    "import openai"
   ]
  },
  {
   "cell_type": "code",
   "execution_count": 197,
   "metadata": {},
   "outputs": [],
   "source": [
    "client = openai.Client()"
   ]
  },
  {
   "cell_type": "code",
   "execution_count": 198,
   "metadata": {},
   "outputs": [],
   "source": [
    "def saudacao_por_periodo(hora):\n",
    "    if hora < 12:\n",
    "        return json.dumps({ \"saudacao\": \"Bom dia!\" })\n",
    "    elif hora < 18:\n",
    "        return json.dumps({ \"saudacao\": \"Boa tarde!\" })\n",
    "    else:\n",
    "        return json.dumps({ \"saudacao\": \"Boa noite!\" })\n",
    "\n",
    "def ask():\n",
    "    return json.dumps({ \"answer\": \"Não entendi a pergunta.\" })\n",
    "\n"
   ]
  },
  {
   "cell_type": "code",
   "execution_count": 199,
   "metadata": {},
   "outputs": [],
   "source": [
    "tools = [\n",
    "    {\n",
    "        \"type\": \"function\",\n",
    "        \"function\": {\n",
    "            \"name\": \"saudacao_por_periodo\",\n",
    "            \"description\": \"Retorna uma saudação de acordo com o período do dia\",\n",
    "            \"parameters\": {\n",
    "                \"type\": \"object\",\n",
    "                \"properties\": {\n",
    "                    \"hora\": { \n",
    "                        \"type\": \"integer\", \n",
    "                        \"description\": \"Hora do dia em formato de 24h\" \n",
    "                    }\n",
    "                },\n",
    "                \"required\": [\"hora\"]\n",
    "            }\n",
    "        }\n",
    "    },\n",
    "    {\n",
    "        \"type\": \"function\",\n",
    "        \"function\": {\n",
    "            \"name\": \"ask\",\n",
    "            \"description\": \"Quando não entende a pergunta\",\n",
    "        }\n",
    "    }\n",
    "]"
   ]
  },
  {
   "cell_type": "code",
   "execution_count": 200,
   "metadata": {},
   "outputs": [],
   "source": [
    "funcao_disponivel = {\n",
    "    \"saudacao_por_periodo\": saudacao_por_periodo,\n",
    "    \"ask\": ask\n",
    "}"
   ]
  },
  {
   "cell_type": "code",
   "execution_count": 201,
   "metadata": {},
   "outputs": [],
   "source": [
    "mensagens = [{ \"role\": \"user\", \"content\": \"Olá, quero um hamburguer\" }]"
   ]
  },
  {
   "cell_type": "code",
   "execution_count": 202,
   "metadata": {},
   "outputs": [],
   "source": [
    "resposta = client.chat.completions.create(\n",
    "    model=\"gpt-3.5-turbo-0125\",\n",
    "    messages=mensagens,\n",
    "    tools=tools,\n",
    "    tool_choice=\"auto\"\n",
    ")"
   ]
  },
  {
   "cell_type": "code",
   "execution_count": 203,
   "metadata": {},
   "outputs": [
    {
     "data": {
      "text/plain": [
       "ChatCompletionMessage(content=None, refusal=None, role='assistant', audio=None, function_call=None, tool_calls=[ChatCompletionMessageToolCall(id='call_yqLzTfIxQWTlx86hDr6iaZyv', function=Function(arguments='{}', name='ask'), type='function')])"
      ]
     },
     "execution_count": 203,
     "metadata": {},
     "output_type": "execute_result"
    }
   ],
   "source": [
    "resp = resposta.choices[0].message\n",
    "resp"
   ]
  },
  {
   "cell_type": "code",
   "execution_count": 204,
   "metadata": {},
   "outputs": [
    {
     "data": {
      "text/plain": [
       "[ChatCompletionMessageToolCall(id='call_yqLzTfIxQWTlx86hDr6iaZyv', function=Function(arguments='{}', name='ask'), type='function')]"
      ]
     },
     "execution_count": 204,
     "metadata": {},
     "output_type": "execute_result"
    }
   ],
   "source": [
    "tools_calls = resp.tool_calls\n",
    "tools_calls"
   ]
  },
  {
   "cell_type": "code",
   "execution_count": null,
   "metadata": {},
   "outputs": [],
   "source": [
    "if tools_calls:\n",
    "    mensagens.append(resp)\n",
    "    for tool_call in tools_calls:\n",
    "        function_name = tool_call.function.name\n",
    "        function_to_call = funcao_disponivel[function_name]\n",
    "        function_args = json.loads(tool_call.function.arguments)\n",
    "        function_result = function_to_call(\n",
    "            **function_args\n",
    "        )\n",
    "        mensagens.append(\n",
    "            {\n",
    "                \"tool_call_id\": tool_call.id,\n",
    "                \"role\": \"tool\",\n",
    "                \"name\": function_name,\n",
    "                \"content\": function_result\n",
    "            }\n",
    "        )\n",
    "    \n",
    "    segunda_resposta = client.chat.completions.create(\n",
    "        model=\"gpt-3.5-turbo-0125\",\n",
    "        messages=mensagens,\n",
    "        tools=tools,\n",
    "        tool_choice=\"auto\"\n",
    "    )"
   ]
  },
  {
   "cell_type": "code",
   "execution_count": 206,
   "metadata": {},
   "outputs": [
    {
     "data": {
      "text/plain": [
       "ChatCompletionMessage(content='Desculpe, eu não entendi o que você quer. Como posso te ajudar hoje?', refusal=None, role='assistant', audio=None, function_call=None, tool_calls=None)"
      ]
     },
     "execution_count": 206,
     "metadata": {},
     "output_type": "execute_result"
    }
   ],
   "source": [
    "mensagem_resposta = segunda_resposta.choices[0].message\n",
    "mensagem_resposta"
   ]
  },
  {
   "cell_type": "markdown",
   "metadata": {},
   "source": []
  }
 ],
 "metadata": {
  "kernelspec": {
   "display_name": ".venv",
   "language": "python",
   "name": "python3"
  },
  "language_info": {
   "codemirror_mode": {
    "name": "ipython",
    "version": 3
   },
   "file_extension": ".py",
   "mimetype": "text/x-python",
   "name": "python",
   "nbconvert_exporter": "python",
   "pygments_lexer": "ipython3",
   "version": "3.10.16"
  }
 },
 "nbformat": 4,
 "nbformat_minor": 2
}
